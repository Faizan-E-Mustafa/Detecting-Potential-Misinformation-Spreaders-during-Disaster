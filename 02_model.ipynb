{
 "cells": [
  {
   "cell_type": "code",
   "execution_count": null,
   "metadata": {},
   "outputs": [],
   "source": [
    "from collections import Counter\n",
    "import pandas as pd\n",
    "import numpy as np\n",
    "from sklearn.feature_extraction.text import CountVectorizer\n",
    "from sklearn.feature_extraction.text import TfidfVectorizer\n",
    "from sklearn.linear_model import LogisticRegression\n",
    "from sklearn.svm import SVC\n",
    "from sklearn.ensemble import RandomForestClassifier\n",
    "from sklearn.model_selection import KFold\n",
    "from sklearn.metrics import accuracy_score\n",
    "from sklearn.pipeline import Pipeline\n",
    "from sklearn.model_selection import cross_validate"
   ]
  },
  {
   "cell_type": "markdown",
   "metadata": {},
   "source": [
    "#### Model for Misformation Spreader classification"
   ]
  },
  {
   "cell_type": "code",
   "execution_count": null,
   "metadata": {},
   "outputs": [],
   "source": [
    "full_df_pan = pd.read_pickle(\"./data/preprocessed/full_df.pkl\")\n",
    "full_df_pan.tweets = full_df_pan.tweets.apply(lambda x: \" \".join(x))\n",
    "full_df_pan.TopN_Tweets = full_df_pan.TopN_Tweets.apply(lambda x: x[:30])\n",
    "full_df_pan.TopN_Tweets = full_df_pan.TopN_Tweets.apply(lambda x: \" \".join(x))"
   ]
  },
  {
   "cell_type": "code",
   "execution_count": null,
   "metadata": {},
   "outputs": [],
   "source": [
    "X = full_df_pan.TopN_Tweets\n",
    "y = full_df_pan.target"
   ]
  },
  {
   "cell_type": "code",
   "execution_count": null,
   "metadata": {},
   "outputs": [],
   "source": [
    "pipe = Pipeline([('cv', CountVectorizer()),\n",
    "                 ('clf', RandomForestClassifier(max_depth=4, random_state=0))])\n",
    "pipe.fit(X, y)\n",
    "# cross_validate(pipe, X, y, cv=3)"
   ]
  },
  {
   "cell_type": "code",
   "execution_count": null,
   "metadata": {},
   "outputs": [],
   "source": [
    "from joblib import dump, load\n",
    "dump(pipe, './model/pan.joblib') "
   ]
  },
  {
   "cell_type": "markdown",
   "metadata": {},
   "source": [
    "#### Model for Disaster Classifier."
   ]
  },
  {
   "cell_type": "code",
   "execution_count": null,
   "metadata": {},
   "outputs": [],
   "source": [
    "full_df_disaster = pd.read_csv(\"./data/preprocessed/disaster/nlp_disaster.csv\")\n",
    "full_df_disaster = full_df_disaster.rename({\"text\":\"tweets\"}, axis = 1)"
   ]
  },
  {
   "cell_type": "code",
   "execution_count": null,
   "metadata": {},
   "outputs": [],
   "source": [
    "X = full_df_disaster.tweets\n",
    "y = full_df_disaster.target\n",
    "\n",
    "pipe = Pipeline([('cv', CountVectorizer()),\n",
    "                 ('clf', SVC(random_state=0))])\n",
    "pipe.fit(X, y)\n",
    "# cross_validate(pipe, X, y, cv=3)"
   ]
  },
  {
   "cell_type": "code",
   "execution_count": null,
   "metadata": {},
   "outputs": [],
   "source": [
    "dump(pipe, './model/disaster.joblib') "
   ]
  },
  {
   "cell_type": "code",
   "execution_count": null,
   "metadata": {},
   "outputs": [],
   "source": [
    "def predict_tweet(tweets):\n",
    "    pan_clf = load('./model/pan.joblib')\n",
    "    pan_pred = pan_clf.predict([\" \".join(tweets)])[0]\n",
    "    disaster_clf = load('./model/disaster.joblib')\n",
    "    predictions = np.array([disaster_clf.predict([tweet])[0] for tweet in tweets])\n",
    "    disaster_tweets_indexes = np.where(predictions == 1)[0]\n",
    "    disaster_counts = Counter(predictions)[1]\n",
    "    disaster_pred  = 1 if disaster_counts / len(tweets) > 0.02 else 0\n",
    "    print(disaster_counts / len(tweets))\n",
    "    if pan_pred and disaster_pred:\n",
    "        print(\"potential misinformation spreader tweeting about disaster.\")\n",
    "    elif pan_pred or disaster_pred:\n",
    "        if pan_pred:\n",
    "            print(\"potential misinformation spreader\")\n",
    "        else:\n",
    "            print(\"a regular user tweeting about disaster\")\n",
    "    else:\n",
    "        print(\"a regular user with routine tweet \")\n",
    "    \n",
    "    return pan_pred, disaster_pred#, disaster_tweets_indexes"
   ]
  },
  {
   "cell_type": "code",
   "execution_count": null,
   "metadata": {},
   "outputs": [],
   "source": [
    "tweets = [\"tweet1\", \"tweet2\"]"
   ]
  },
  {
   "cell_type": "code",
   "execution_count": null,
   "metadata": {},
   "outputs": [],
   "source": [
    "predict_tweet(tweets)"
   ]
  },
  {
   "cell_type": "code",
   "execution_count": null,
   "metadata": {},
   "outputs": [],
   "source": []
  }
 ],
 "metadata": {
  "kernelspec": {
   "display_name": "Python 3",
   "language": "python",
   "name": "python3"
  },
  "language_info": {
   "codemirror_mode": {
    "name": "ipython",
    "version": 3
   },
   "file_extension": ".py",
   "mimetype": "text/x-python",
   "name": "python",
   "nbconvert_exporter": "python",
   "pygments_lexer": "ipython3",
   "version": "3.7.7"
  }
 },
 "nbformat": 4,
 "nbformat_minor": 4
}
