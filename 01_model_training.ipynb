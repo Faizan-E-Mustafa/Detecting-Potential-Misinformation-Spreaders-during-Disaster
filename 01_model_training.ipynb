{
 "cells": [
  {
   "cell_type": "code",
   "execution_count": null,
   "metadata": {},
   "outputs": [],
   "source": [
    "from collections import Counter\n",
    "import pickle\n",
    "from pathlib import Path\n",
    "\n",
    "import pandas as pd\n",
    "import numpy as np\n",
    "from sklearn.feature_extraction.text import CountVectorizer\n",
    "\n",
    "from sklearn.naive_bayes import MultinomialNB\n",
    "from sklearn.model_selection import KFold\n",
    "from sklearn.metrics import accuracy_score\n",
    "from sklearn.pipeline import Pipeline\n",
    "from sklearn.model_selection import cross_validate\n",
    "from joblib import dump, load\n",
    "\n",
    "from src import chi_square_filtering\n",
    "from src import data_loading\n",
    "from src import preprocessing"
   ]
  },
  {
   "cell_type": "code",
   "execution_count": null,
   "metadata": {},
   "outputs": [],
   "source": [
    "import warnings\n",
    "warnings.filterwarnings(\"ignore\")"
   ]
  },
  {
   "cell_type": "markdown",
   "metadata": {},
   "source": [
    "#### Model for Misformation Spreader classification"
   ]
  },
  {
   "cell_type": "code",
   "execution_count": null,
   "metadata": {},
   "outputs": [],
   "source": [
    "p = Path(\"./data/raw/en\")\n",
    "\n",
    "full_df_pan = data_loading.read_data(path = p)\n",
    "full_df_pan.head()"
   ]
  },
  {
   "cell_type": "code",
   "execution_count": null,
   "metadata": {},
   "outputs": [],
   "source": [
    "ts = chi_square_filtering.Tweet_Selection()"
   ]
  },
  {
   "cell_type": "code",
   "execution_count": null,
   "metadata": {},
   "outputs": [],
   "source": [
    "kf = KFold(n_splits=3, shuffle = True, random_state= 42)\n",
    "\n",
    "results = []\n",
    "for train_index, test_index in kf.split(full_df_pan):\n",
    "#     full_df_pan = ts.transform(full_df_pan, keepn_tweets=30)\n",
    "    train_df = full_df_pan.iloc[train_index]\n",
    "    test_df  = full_df_pan.iloc[test_index]\n",
    "    ts.fit(train_df)\n",
    "    train_df = ts.transform(train_df, keepn_tweets=30)\n",
    "    test_df  = ts.transform(test_df, keepn_tweets=30)\n",
    "    \n",
    "    train_df.TopN_Tweets = train_df.TopN_Tweets.apply(lambda x: \" \".join(x))\n",
    "    test_df.TopN_Tweets  = test_df.TopN_Tweets.apply(lambda x: \" \".join(x))\n",
    "    \n",
    "    X_train = train_df.TopN_Tweets\n",
    "    y_train = train_df.target\n",
    "    X_test = test_df.TopN_Tweets\n",
    "    y_test = test_df.target\n",
    "\n",
    "    pipe = Pipeline([('cv', CountVectorizer()),\n",
    "                 (\"clf\", MultinomialNB())])\n",
    "    pipe.fit(X_train, y_train)\n",
    "    pred = pipe.predict(X_test)\n",
    "\n",
    "    results.append(accuracy_score(y_test, pred))\n",
    "\n",
    "print(np.mean(results))"
   ]
  },
  {
   "cell_type": "code",
   "execution_count": null,
   "metadata": {},
   "outputs": [],
   "source": [
    "ts.fit(full_df_pan)\n",
    "full_df_pan = ts.transform(full_df_pan, keepn_tweets=30)\n",
    "full_df_pan.TopN_Tweets = full_df_pan.TopN_Tweets.apply(lambda x: \" \".join(x))\n",
    "\n",
    "pipe = Pipeline([('cv', CountVectorizer()),\n",
    "                 (\"clf\", MultinomialNB())])\n",
    "pipe.fit(full_df_pan.TopN_Tweets, full_df_pan.target)\n",
    "    \n",
    "dump(pipe, './model/pan.joblib') \n",
    "ts.save_keep_words(path = \"./model/keep_words.pkl\")"
   ]
  },
  {
   "cell_type": "markdown",
   "metadata": {},
   "source": [
    "#### Model for Disaster Classifier."
   ]
  },
  {
   "cell_type": "code",
   "execution_count": null,
   "metadata": {},
   "outputs": [],
   "source": [
    "full_df_disaster = pd.read_csv(\"./data/raw/disaster/nlp_disaster.csv\")\n",
    "full_df_disaster = full_df_disaster.rename({\"text\":\"tweets\"}, axis = 1)\n",
    "full_df_disaster.tweets = full_df_disaster.tweets.apply(lambda x: preprocessing.preprocess(x))\n",
    "full_df_disaster.to_csv(\"./data/preprocessed/disaster/nlp_disaster.csv\")\n",
    "full_df_disaster = pd.read_csv(\"./data/preprocessed/disaster/nlp_disaster.csv\")"
   ]
  },
  {
   "cell_type": "code",
   "execution_count": null,
   "metadata": {},
   "outputs": [],
   "source": [
    "X = full_df_disaster.tweets\n",
    "y = full_df_disaster.target\n",
    "\n",
    "pipe = Pipeline([('cv', CountVectorizer()),\n",
    "                 ('clf', MultinomialNB())])\n",
    "pipe.fit(X, y)\n",
    "# cross_validate(pipe, X, y, cv=3)"
   ]
  },
  {
   "cell_type": "code",
   "execution_count": null,
   "metadata": {},
   "outputs": [],
   "source": [
    "dump(pipe, './model/disaster.joblib') "
   ]
  },
  {
   "cell_type": "code",
   "execution_count": null,
   "metadata": {},
   "outputs": [],
   "source": [
    "from predict_sample import predict_tweet"
   ]
  },
  {
   "cell_type": "code",
   "execution_count": null,
   "metadata": {},
   "outputs": [],
   "source": [
    "tweets = [\"Images showing the havoc caused by the #Cameroon military as they torched houses in #Oku.The shameless military is reported…\",\n",
    "      \"The speeding car rammed into a group of people, who were returning after attending a temple festival of Ayyappan Ka… https://t.co/e3bBlaVDDA\",\n",
    "      \"Army IDs Two Paratroopers Killed by Roadside Bomb in Afghanistan | #URL# #URL#\",\n",
    "      \"Russia Blames Trump’s Iran Strike on Impeachment: “For Trump, the annihilation of an Iranian General presents a decen…'\"]"
   ]
  },
  {
   "cell_type": "code",
   "execution_count": null,
   "metadata": {},
   "outputs": [],
   "source": [
    "predict_tweet(tweets)"
   ]
  },
  {
   "cell_type": "code",
   "execution_count": null,
   "metadata": {},
   "outputs": [],
   "source": []
  }
 ],
 "metadata": {
  "kernelspec": {
   "display_name": "Python 3",
   "language": "python",
   "name": "python3"
  },
  "language_info": {
   "codemirror_mode": {
    "name": "ipython",
    "version": 3
   },
   "file_extension": ".py",
   "mimetype": "text/x-python",
   "name": "python",
   "nbconvert_exporter": "python",
   "pygments_lexer": "ipython3",
   "version": "3.8.3"
  }
 },
 "nbformat": 4,
 "nbformat_minor": 4
}
